{
 "cells": [
  {
   "cell_type": "code",
   "execution_count": 52,
   "metadata": {},
   "outputs": [],
   "source": [
    "import pandas as pd\n",
    "from sklearn.datasets import fetch_california_housing\n",
    "df = fetch_california_housing(as_frame=True).frame\n",
    "df.sample()\n",
    "list(df.columns)\n",
    "pd.options.display.max_columns = 500\n",
    "#df.info()\n",
    "#df.describe()\n",
    "#df['HouseAge'].mean()\n",
    "#df.HouseAge.std()\n",
    "#df.HouseAge.median()\n",
    "#df.HouseAge.mode()\n",
    "# df.HouseAge.count()\n",
    "# df.HouseAge.sum()"
   ]
  },
  {
   "cell_type": "code",
   "execution_count": 53,
   "metadata": {},
   "outputs": [],
   "source": [
    "import matplotlib.pyplot as plt\n",
    "# df.HouseAge.plot.bar(figsize=(12,8))\n",
    "# plt.title('House Age')\n",
    "# plt.show()\n",
    "\n",
    "# df.plot(figsize=(12,8))\n",
    "# plt.tight_layout()"
   ]
  },
  {
   "cell_type": "code",
   "execution_count": 54,
   "metadata": {},
   "outputs": [
    {
     "data": {
      "text/html": [
       "<div>\n",
       "<style scoped>\n",
       "    .dataframe tbody tr th:only-of-type {\n",
       "        vertical-align: middle;\n",
       "    }\n",
       "\n",
       "    .dataframe tbody tr th {\n",
       "        vertical-align: top;\n",
       "    }\n",
       "\n",
       "    .dataframe thead th {\n",
       "        text-align: right;\n",
       "    }\n",
       "</style>\n",
       "<table border=\"1\" class=\"dataframe\">\n",
       "  <thead>\n",
       "    <tr style=\"text-align: right;\">\n",
       "      <th></th>\n",
       "      <th>name</th>\n",
       "      <th>age</th>\n",
       "      <th>job</th>\n",
       "    </tr>\n",
       "  </thead>\n",
       "  <tbody>\n",
       "    <tr>\n",
       "      <th>0</th>\n",
       "      <td>Mike</td>\n",
       "      <td>10</td>\n",
       "      <td>CEO</td>\n",
       "    </tr>\n",
       "    <tr>\n",
       "      <th>1</th>\n",
       "      <td>Alice</td>\n",
       "      <td>37</td>\n",
       "      <td>Startaper</td>\n",
       "    </tr>\n",
       "    <tr>\n",
       "      <th>2</th>\n",
       "      <td>Bob</td>\n",
       "      <td>12</td>\n",
       "      <td>CTO</td>\n",
       "    </tr>\n",
       "    <tr>\n",
       "      <th>3</th>\n",
       "      <td>John</td>\n",
       "      <td>45</td>\n",
       "      <td>Teacher</td>\n",
       "    </tr>\n",
       "  </tbody>\n",
       "</table>\n",
       "</div>"
      ],
      "text/plain": [
       "    name  age        job\n",
       "0   Mike   10        CEO\n",
       "1  Alice   37  Startaper\n",
       "2    Bob   12        CTO\n",
       "3   John   45    Teacher"
      ]
     },
     "execution_count": 54,
     "metadata": {},
     "output_type": "execute_result"
    }
   ],
   "source": [
    "import yfinance as yf\n",
    "\n",
    "# stock_df = yf.download('AAPL')\n",
    "# stock_df.plot()\n",
    "\n",
    "df = pd.DataFrame({\n",
    "    'name':['Mike','Alice','Bob'],\n",
    "    'age':[21,22,25],\n",
    "    'job': ['CEO', 'CMO', 'CTO']\n",
    "})\n",
    "\n",
    "df = df.set_index('name')\n",
    "#df.loc['Alice','age']\n",
    "#df.iloc[1,0]\n",
    "#df.at['Alice','age']\n",
    "df.loc['John'] = [90, 'Teacher']\n",
    "df.loc['Alice'] = [75, 'Startaper']\n",
    "#df.iloc[0:4 , 1]\n",
    "df.age = df.age // 2\n",
    "df = df.reset_index()\n",
    "df"
   ]
  },
  {
   "cell_type": "code",
   "execution_count": 55,
   "metadata": {},
   "outputs": [],
   "source": [
    "import random as r\n",
    "\n",
    "def myfunction():\n",
    "    i=r.randint(3, 99)\n",
    "    if i % 3 == 0:\n",
    "        return i ** 2\n",
    "    print('ERROR')\n",
    "#myfunction()\n",
    "\n",
    "def myfunction2(x):\n",
    "    if x.endswith('r'):\n",
    "        return 'Without Job :D'\n",
    "    else:\n",
    "        return \"You're fired!\"\n",
    "#df.job.apply(myfunction2)\n",
    "#df.age.apply(lambda x: x**2)\n",
    "#df.age.apply(lambda x: r.randint(3,99))\n",
    "df['summary'] = df.apply(lambda x: f'Age: {x['age']}, Job: {x['job']}', axis=1)"
   ]
  },
  {
   "cell_type": "code",
   "execution_count": 56,
   "metadata": {},
   "outputs": [],
   "source": [
    "#df = df.drop(['job', 'summary'], axis=1)\n",
    "df.at['Alice' , 'age'] = float('nan')\n",
    "#df.info()\n",
    "\n",
    "#df.dropna()\n",
    "df.fillna(df.age.mean())\n",
    "df.at['Bob', 'job'] = None\n",
    "#df.notna()\n",
    "#df[df.age.notna()]"
   ]
  },
  {
   "cell_type": "code",
   "execution_count": 57,
   "metadata": {},
   "outputs": [
    {
     "data": {
      "text/html": [
       "<div>\n",
       "<style scoped>\n",
       "    .dataframe tbody tr th:only-of-type {\n",
       "        vertical-align: middle;\n",
       "    }\n",
       "\n",
       "    .dataframe tbody tr th {\n",
       "        vertical-align: top;\n",
       "    }\n",
       "\n",
       "    .dataframe thead th {\n",
       "        text-align: right;\n",
       "    }\n",
       "</style>\n",
       "<table border=\"1\" class=\"dataframe\">\n",
       "  <thead>\n",
       "    <tr style=\"text-align: right;\">\n",
       "      <th></th>\n",
       "      <th>name</th>\n",
       "      <th>age</th>\n",
       "      <th>job</th>\n",
       "      <th>summary</th>\n",
       "    </tr>\n",
       "  </thead>\n",
       "  <tbody>\n",
       "    <tr>\n",
       "      <th>1</th>\n",
       "      <td>Alice</td>\n",
       "      <td>37.0</td>\n",
       "      <td>Startaper</td>\n",
       "      <td>Age: 37, Job: Startaper</td>\n",
       "    </tr>\n",
       "  </tbody>\n",
       "</table>\n",
       "</div>"
      ],
      "text/plain": [
       "    name   age        job                  summary\n",
       "1  Alice  37.0  Startaper  Age: 37, Job: Startaper"
      ]
     },
     "execution_count": 57,
     "metadata": {},
     "output_type": "execute_result"
    }
   ],
   "source": [
    "# for i, row in df.iterrows():\n",
    "#     print(row['summary'])\n",
    "\n",
    "# for i, col in df.items():\n",
    "#     print(i)\n",
    "\n",
    "#df.age > 50\n",
    "df[[False, True, False, False, False, False]]"
   ]
  }
 ],
 "metadata": {
  "kernelspec": {
   "display_name": ".venv",
   "language": "python",
   "name": "python3"
  },
  "language_info": {
   "codemirror_mode": {
    "name": "ipython",
    "version": 3
   },
   "file_extension": ".py",
   "mimetype": "text/x-python",
   "name": "python",
   "nbconvert_exporter": "python",
   "pygments_lexer": "ipython3",
   "version": "3.13.2"
  }
 },
 "nbformat": 4,
 "nbformat_minor": 2
}
