{
 "cells": [
  {
   "cell_type": "code",
   "execution_count": 121,
   "metadata": {},
   "outputs": [],
   "source": [
    "import pandas as pd\n",
    "from sklearn.datasets import fetch_california_housing\n",
    "df = fetch_california_housing(as_frame=True).frame\n",
    "df.sample()\n",
    "list(df.columns)\n",
    "pd.options.display.max_columns = 500\n",
    "#df.info()\n",
    "#df.describe()\n",
    "#df['HouseAge'].mean()\n",
    "#df.HouseAge.std()\n",
    "#df.HouseAge.median()\n",
    "#df.HouseAge.mode()\n",
    "# df.HouseAge.count()\n",
    "# df.HouseAge.sum()"
   ]
  },
  {
   "cell_type": "code",
   "execution_count": 122,
   "metadata": {},
   "outputs": [],
   "source": [
    "import matplotlib.pyplot as plt\n",
    "# df.HouseAge.plot.bar(figsize=(12,8))\n",
    "# plt.title('House Age')\n",
    "# plt.show()\n",
    "\n",
    "# df.plot(figsize=(12,8))\n",
    "# plt.tight_layout()"
   ]
  },
  {
   "cell_type": "code",
   "execution_count": 123,
   "metadata": {},
   "outputs": [
    {
     "data": {
      "text/html": [
       "<div>\n",
       "<style scoped>\n",
       "    .dataframe tbody tr th:only-of-type {\n",
       "        vertical-align: middle;\n",
       "    }\n",
       "\n",
       "    .dataframe tbody tr th {\n",
       "        vertical-align: top;\n",
       "    }\n",
       "\n",
       "    .dataframe thead th {\n",
       "        text-align: right;\n",
       "    }\n",
       "</style>\n",
       "<table border=\"1\" class=\"dataframe\">\n",
       "  <thead>\n",
       "    <tr style=\"text-align: right;\">\n",
       "      <th></th>\n",
       "      <th>age</th>\n",
       "      <th>job</th>\n",
       "    </tr>\n",
       "    <tr>\n",
       "      <th>name</th>\n",
       "      <th></th>\n",
       "      <th></th>\n",
       "    </tr>\n",
       "  </thead>\n",
       "  <tbody>\n",
       "    <tr>\n",
       "      <th>Mike</th>\n",
       "      <td>21</td>\n",
       "      <td>CEO</td>\n",
       "    </tr>\n",
       "    <tr>\n",
       "      <th>Alice</th>\n",
       "      <td>22</td>\n",
       "      <td>CMO</td>\n",
       "    </tr>\n",
       "    <tr>\n",
       "      <th>Bob</th>\n",
       "      <td>25</td>\n",
       "      <td>CTO</td>\n",
       "    </tr>\n",
       "    <tr>\n",
       "      <th>John</th>\n",
       "      <td>90</td>\n",
       "      <td>Teacher</td>\n",
       "    </tr>\n",
       "  </tbody>\n",
       "</table>\n",
       "</div>"
      ],
      "text/plain": [
       "       age      job\n",
       "name               \n",
       "Mike    21      CEO\n",
       "Alice   22      CMO\n",
       "Bob     25      CTO\n",
       "John    90  Teacher"
      ]
     },
     "execution_count": 123,
     "metadata": {},
     "output_type": "execute_result"
    }
   ],
   "source": [
    "import yfinance as yf\n",
    "\n",
    "# stock_df = yf.download('AAPL')\n",
    "# stock_df.plot()\n",
    "\n",
    "df = pd.DataFrame({\n",
    "    'name':['Mike','Alice','Bob'],\n",
    "    'age':[21,22,25],\n",
    "    'job': ['CEO', 'CMO', 'CTO']\n",
    "})\n",
    "\n",
    "df = df.set_index('name')\n",
    "#df.loc['Alice','age']\n",
    "#df.iloc[1,0]\n",
    "#df.at['Alice','age']\n",
    "df.loc['John'] = [90, 'Teacher']\n",
    "df"
   ]
  }
 ],
 "metadata": {
  "kernelspec": {
   "display_name": ".venv",
   "language": "python",
   "name": "python3"
  },
  "language_info": {
   "codemirror_mode": {
    "name": "ipython",
    "version": 3
   },
   "file_extension": ".py",
   "mimetype": "text/x-python",
   "name": "python",
   "nbconvert_exporter": "python",
   "pygments_lexer": "ipython3",
   "version": "3.13.2"
  }
 },
 "nbformat": 4,
 "nbformat_minor": 2
}
