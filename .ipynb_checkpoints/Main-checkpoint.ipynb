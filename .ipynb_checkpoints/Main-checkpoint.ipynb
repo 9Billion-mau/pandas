{
 "cells": [
  {
   "cell_type": "code",
   "execution_count": null,
   "id": "57aa8c42-1e9d-4b4c-971a-f796c0211aaf",
   "metadata": {},
   "outputs": [],
   "source": [
    "import pandas as p"
   ]
  },
  {
   "cell_type": "code",
   "execution_count": 1,
   "id": "f6d34195-89bd-4cf2-a3ef-0a0890da8ccf",
   "metadata": {},
   "outputs": [
    {
     "ename": "NameError",
     "evalue": "name 'p' is not defined",
     "output_type": "error",
     "traceback": [
      "\u001b[31m---------------------------------------------------------------------------\u001b[39m",
      "\u001b[31mNameError\u001b[39m                                 Traceback (most recent call last)",
      "\u001b[36mCell\u001b[39m\u001b[36m \u001b[39m\u001b[32mIn[1]\u001b[39m\u001b[32m, line 3\u001b[39m\n\u001b[32m      1\u001b[39m \u001b[38;5;66;03m#Series\u001b[39;00m\n\u001b[32m      2\u001b[39m values = [\u001b[32m10\u001b[39m,\u001b[32m20\u001b[39m,\u001b[32m30\u001b[39m,\u001b[32m40\u001b[39m]\n\u001b[32m----> \u001b[39m\u001b[32m3\u001b[39m s = \u001b[43mp\u001b[49m.Series(values)\n\u001b[32m      4\u001b[39m \u001b[38;5;66;03m#Data Frame\u001b[39;00m\n\u001b[32m      7\u001b[39m s\n",
      "\u001b[31mNameError\u001b[39m: name 'p' is not defined"
     ]
    }
   ],
   "source": [
    "#Series\n",
    "values = [10,20,30,40]\n",
    "s = p.Series(values)\n",
    "#Data Frame\n",
    "\n",
    "\n",
    "s"
   ]
  },
  {
   "cell_type": "code",
   "execution_count": null,
   "id": "6ab45bf6-8d5b-4540-b13a-8e4ece6866c4",
   "metadata": {},
   "outputs": [],
   "source": []
  }
 ],
 "metadata": {
  "kernelspec": {
   "display_name": "Python 3 (ipykernel)",
   "language": "python",
   "name": "python3"
  },
  "language_info": {
   "codemirror_mode": {
    "name": "ipython",
    "version": 3
   },
   "file_extension": ".py",
   "mimetype": "text/x-python",
   "name": "python",
   "nbconvert_exporter": "python",
   "pygments_lexer": "ipython3",
   "version": "3.13.2"
  }
 },
 "nbformat": 4,
 "nbformat_minor": 5
}
