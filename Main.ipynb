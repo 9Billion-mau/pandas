{
 "cells": [
  {
   "cell_type": "code",
   "execution_count": 12,
   "id": "57aa8c42-1e9d-4b4c-971a-f796c0211aaf",
   "metadata": {},
   "outputs": [],
   "source": [
    "import pandas as pd"
   ]
  },
  {
   "cell_type": "code",
   "execution_count": null,
   "id": "f6d34195-89bd-4cf2-a3ef-0a0890da8ccf",
   "metadata": {},
   "outputs": [
    {
     "data": {
      "text/plain": [
       "a    10\n",
       "a    50\n",
       "dtype: int64"
      ]
     },
     "execution_count": 13,
     "metadata": {},
     "output_type": "execute_result"
    }
   ],
   "source": [
    "#Series\n",
    "values = [10,20,30,40,50]\n",
    "s = pd.Series(values, index=['a','b','c', 'd','a'])\n",
    "#Data Frame\n",
    "\n",
    "s.loc['a']\n",
    "\n",
    "df = pd.DataFrame({\n",
    "    'name': ['Bob','Alice','Jack'],\n",
    "    'age' : [25, 18, 27],\n",
    "    'job' : ['Programmer', 'Clerk', 'Designer']\n",
    "})\n",
    "\n"
   ]
  },
  {
   "cell_type": "code",
   "execution_count": null,
   "id": "6ab45bf6-8d5b-4540-b13a-8e4ece6866c4",
   "metadata": {},
   "outputs": [],
   "source": [
    "df"
   ]
  }
 ],
 "metadata": {
  "kernelspec": {
   "display_name": ".venv",
   "language": "python",
   "name": "python3"
  },
  "language_info": {
   "codemirror_mode": {
    "name": "ipython",
    "version": 3
   },
   "file_extension": ".py",
   "mimetype": "text/x-python",
   "name": "python",
   "nbconvert_exporter": "python",
   "pygments_lexer": "ipython3",
   "version": "3.13.2"
  }
 },
 "nbformat": 4,
 "nbformat_minor": 5
}
